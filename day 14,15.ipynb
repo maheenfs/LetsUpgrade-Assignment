{
  "cells": [
    {
      "metadata": {
        "trusted": true
      },
      "cell_type": "code",
      "source": "import numpy as np\nx = np.random.random((3,3,3))\nprint(x)",
      "execution_count": 1,
      "outputs": [
        {
          "output_type": "stream",
          "text": "[[[0.43313085 0.27401274 0.6360334 ]\n  [0.93077201 0.5632645  0.82396855]\n  [0.30682601 0.01017504 0.16084088]]\n\n [[0.57272043 0.72500162 0.67377091]\n  [0.20095514 0.23475262 0.40074917]\n  [0.76418971 0.18666667 0.13590341]]\n\n [[0.46634897 0.64636867 0.49448213]\n  [0.91822685 0.4784045  0.41431984]\n  [0.13292975 0.08137344 0.38496064]]]\n",
          "name": "stdout"
        }
      ]
    },
    {
      "metadata": {
        "trusted": true
      },
      "cell_type": "code",
      "source": "import numpy as np\nx = np.diag([1, 2, 3, 4, 5])\nprint(x)",
      "execution_count": 2,
      "outputs": [
        {
          "output_type": "stream",
          "text": "[[1 0 0 0 0]\n [0 2 0 0 0]\n [0 0 3 0 0]\n [0 0 0 4 0]\n [0 0 0 0 5]]\n",
          "name": "stdout"
        }
      ]
    },
    {
      "metadata": {
        "trusted": true
      },
      "cell_type": "code",
      "source": "import numpy as np\nx = np.ones((3,3))\nprint(\"Checkerboard pattern:\")\nx = np.zeros((8,8),dtype=int)\nx[1::2,::2] = 1\nx[::2,1::2] = 1\nprint(x)",
      "execution_count": 3,
      "outputs": [
        {
          "output_type": "stream",
          "text": "Checkerboard pattern:\n[[0 1 0 1 0 1 0 1]\n [1 0 1 0 1 0 1 0]\n [0 1 0 1 0 1 0 1]\n [1 0 1 0 1 0 1 0]\n [0 1 0 1 0 1 0 1]\n [1 0 1 0 1 0 1 0]\n [0 1 0 1 0 1 0 1]\n [1 0 1 0 1 0 1 0]]\n",
          "name": "stdout"
        }
      ]
    },
    {
      "metadata": {
        "trusted": true
      },
      "cell_type": "code",
      "source": "import numpy as np\nx= np.random.random((5,5))\nprint(\"Original Array:\")\nprint(x)\nxmax, xmin = x.max(), x.min()\nx = (x - xmin)/(xmax - xmin)\nprint(\"After normalization:\")\nprint(x)",
      "execution_count": 4,
      "outputs": [
        {
          "output_type": "stream",
          "text": "Original Array:\n[[0.58163455 0.06179629 0.84493788 0.16262332 0.51547774]\n [0.59547572 0.0169443  0.85035816 0.33114022 0.93892071]\n [0.52366968 0.71009517 0.15614697 0.84553104 0.51967663]\n [0.8475182  0.55320241 0.31685695 0.73170408 0.89521779]\n [0.01861302 0.73502602 0.02883481 0.48437392 0.94585495]]\nAfter normalization:\n[[0.60790588 0.04828451 0.89135977 0.15682781 0.5366861 ]\n [0.62280631 0.         0.89719486 0.33824127 0.99253509]\n [0.54550497 0.74619757 0.14985582 0.89199832 0.54120634]\n [0.89413756 0.57729784 0.32286491 0.7694602  0.94548758]\n [0.00179642 0.77303638 0.01280048 0.50320192 1.        ]]\n",
          "name": "stdout"
        }
      ]
    },
    {
      "metadata": {
        "trusted": true
      },
      "cell_type": "code",
      "source": "import numpy as np\narray1 = np.array([0, 10, 20, 40, 60])\nprint(\"Array1: \",array1)\narray2 = [10, 30, 40]\nprint(\"Array2: \",array2)\nprint(\"Common values between two arrays:\")\nprint(np.intersect1d(array1, array2))",
      "execution_count": 5,
      "outputs": [
        {
          "output_type": "stream",
          "text": "Array1:  [ 0 10 20 40 60]\nArray2:  [10, 30, 40]\nCommon values between two arrays:\n[10 40]\n",
          "name": "stdout"
        }
      ]
    },
    {
      "metadata": {
        "trusted": true
      },
      "cell_type": "code",
      "source": "import numpy as np\nyesterday = np.datetime64('today', 'D') - np.timedelta64(1, 'D')\nprint(\"Yestraday: \",yesterday)\ntoday     = np.datetime64('today', 'D')\nprint(\"Today: \",today)\ntomorrow  = np.datetime64('today', 'D') + np.timedelta64(1, 'D')\nprint(\"Tomorrow: \",tomorrow)",
      "execution_count": 6,
      "outputs": [
        {
          "output_type": "stream",
          "text": "Yestraday:  2020-07-25\nToday:  2020-07-26\nTomorrow:  2020-07-27\n",
          "name": "stdout"
        }
      ]
    },
    {
      "metadata": {
        "trusted": true
      },
      "cell_type": "code",
      "source": "import numpy as np\nx = np.random.randint(0,2,6)\nprint(\"First array:\")\nprint(x)\ny = np.random.randint(0,2,6)\nprint(\"Second array:\")\nprint(y)\nprint(\"Test above two arrays are equal or not!\")\narray_equal = np.allclose(x, y)\nprint(array_equal)",
      "execution_count": 7,
      "outputs": [
        {
          "output_type": "stream",
          "text": "First array:\n[0 0 0 0 1 0]\nSecond array:\n[0 1 0 0 1 0]\nTest above two arrays are equal or not!\nFalse\n",
          "name": "stdout"
        }
      ]
    },
    {
      "metadata": {
        "trusted": true
      },
      "cell_type": "code",
      "source": "import numpy as np\nx = np.random.random(10)\nprint(\"Original array:\")\nprint(x)\nx[x.argmax()] = 0\nprint(\"Maximum value replaced by -1:\")\nprint(x)\n\n",
      "execution_count": 10,
      "outputs": [
        {
          "output_type": "stream",
          "text": "Original array:\n[0.44824254 0.11813132 0.27499666 0.94378739 0.87427972 0.90690729\n 0.56819459 0.88184218 0.44422378 0.67510256]\nMaximum value replaced by -1:\n[0.44824254 0.11813132 0.27499666 0.         0.87427972 0.90690729\n 0.56819459 0.88184218 0.44422378 0.67510256]\n",
          "name": "stdout"
        }
      ]
    },
    {
      "metadata": {},
      "cell_type": "markdown",
      "source": "o print out the entire two dimensional array we can use python for loop as shown below. We use end of line to print out the values in different rows. from array import * T = [ [11, 12, 5, 2], [15, 6,10], [10, 8, 12, 5], [12,15,8,6]] for r in T: for c in r: print(c,end = \" \") print()"
    },
    {
      "metadata": {
        "trusted": true
      },
      "cell_type": "code",
      "source": "import numpy as np\nprint(\"Original matrix:\\n\")\nX = np.random.rand(5, 10)\nprint(X)\nprint(\"\\nSubtract the mean of each row of the said matrix:\\n\")\nY = X - X.mean(axis=1, keepdims=True)\nprint(Y)",
      "execution_count": 11,
      "outputs": [
        {
          "output_type": "stream",
          "text": "Original matrix:\n\n[[0.52186047 0.1816809  0.08960264 0.88028354 0.6032078  0.35643983\n  0.30929329 0.16107889 0.45454256 0.44818123]\n [0.04689956 0.99641494 0.10494296 0.64135676 0.29487874 0.18245699\n  0.48784789 0.35327349 0.93140039 0.57259121]\n [0.77504762 0.99979365 0.65111732 0.61143664 0.89679508 0.3998409\n  0.62137624 0.28768129 0.82074079 0.73975749]\n [0.87575934 0.42632106 0.64035818 0.58815845 0.26162507 0.35571017\n  0.2996275  0.98863218 0.81153427 0.08689939]\n [0.21860997 0.32579987 0.85212156 0.75312954 0.86774971 0.11926828\n  0.42909584 0.82117477 0.89345425 0.0499411 ]]\n\nSubtract the mean of each row of the said matrix:\n\n[[ 0.12124336 -0.21893621 -0.31101448  0.47966642  0.20259068 -0.04417728\n  -0.09132383 -0.23953823  0.05392544  0.04756411]\n [-0.41430673  0.53520865 -0.35626333  0.18015047 -0.16632756 -0.27874931\n   0.0266416  -0.10793281  0.4701941   0.11138492]\n [ 0.09468891  0.31943495 -0.02924138 -0.06892206  0.21643637 -0.2805178\n  -0.05898246 -0.39267741  0.14038209  0.05939879]\n [ 0.34229678 -0.1071415   0.10689562  0.05469589 -0.27183749 -0.17775239\n  -0.23383506  0.45516962  0.27807171 -0.44656317]\n [-0.31442452 -0.20723462  0.31908707  0.22009505  0.33471522 -0.41376621\n  -0.10393865  0.28814028  0.36041976 -0.48309339]]\n",
          "name": "stdout"
        }
      ]
    },
    {
      "metadata": {
        "trusted": true
      },
      "cell_type": "code",
      "source": "Z = np.ones(10)\nI = np.random.randint(0,len(Z),20)\nZ += np.bincount(I, minlength=len(Z))\nprint(Z)\n",
      "execution_count": 15,
      "outputs": [
        {
          "output_type": "stream",
          "text": "[2. 3. 3. 4. 2. 2. 4. 4. 3. 3.]\n",
          "name": "stdout"
        }
      ]
    },
    {
      "metadata": {
        "trusted": true
      },
      "cell_type": "code",
      "source": "# Slow version\nnp.diag(np.dot(A, B))\n# Fast version\nnp.sum(A * B.T, axis=1)\n# Faster version\nnp.einsum(\"ij,ji->i\", A, B).",
      "execution_count": null,
      "outputs": []
    },
    {
      "metadata": {
        "trusted": true
      },
      "cell_type": "code",
      "source": "import numpy as np\nx = np.random.randint(0, 10, 40)\nprint(\"Original array:\")\nprint(x)\nprint(\"Most frequent value in the above array:\")\nprint(np.bincount(x).argmax())\n",
      "execution_count": 12,
      "outputs": [
        {
          "output_type": "stream",
          "text": "Original array:\n[4 0 9 6 8 0 4 8 4 4 7 4 8 9 5 0 5 0 1 1 3 4 4 2 2 1 9 6 5 8 6 3 9 4 4 3 2\n 8 4 9]\nMost frequent value in the above array:\n4\n",
          "name": "stdout"
        }
      ]
    },
    {
      "metadata": {
        "trusted": true
      },
      "cell_type": "code",
      "source": "import numpy as np\nx = np.arange(10)\nprint(\"Original array:\")\nprint(x)\nnp.random.shuffle(x)\nn = 1\nprint (x[np.argsort(x)[-n:]])\n",
      "execution_count": 13,
      "outputs": [
        {
          "output_type": "stream",
          "text": "Original array:\n[0 1 2 3 4 5 6 7 8 9]\n[9]\n",
          "name": "stdout"
        }
      ]
    },
    {
      "metadata": {
        "trusted": true
      },
      "cell_type": "code",
      "source": "import numpy as np\narra1 = np.array([(\"Yasemin Rayner\", 88.5, 90),\n                 (\"Ayaana Mcnamara\", 87, 99),\n             (\"Jody Preece\", 85.5, 91)])\nprint(\"Original arrays:\")\nprint(arra1)\nprint(\"\\nRecord array;\")\nresult = np.core.records.fromarrays(arra1.T,\n                              names='col1, col2, col3',\n                              formats = 'S80, f8, i8')\nprint(result)\n",
      "execution_count": 14,
      "outputs": [
        {
          "output_type": "stream",
          "text": "Original arrays:\n[['Yasemin Rayner' '88.5' '90']\n ['Ayaana Mcnamara' '87' '99']\n ['Jody Preece' '85.5' '91']]\n\nRecord array;\n[(b'Yasemin Rayner', 88.5, 90) (b'Ayaana Mcnamara', 87. , 99)\n (b'Jody Preece', 85.5, 91)]\n",
          "name": "stdout"
        }
      ]
    },
    {
      "metadata": {
        "trusted": true
      },
      "cell_type": "code",
      "source": "",
      "execution_count": null,
      "outputs": []
    }
  ],
  "metadata": {
    "kernelspec": {
      "name": "python36",
      "display_name": "Python 3.6",
      "language": "python"
    },
    "language_info": {
      "mimetype": "text/x-python",
      "nbconvert_exporter": "python",
      "name": "python",
      "pygments_lexer": "ipython3",
      "version": "3.6.6",
      "file_extension": ".py",
      "codemirror_mode": {
        "version": 3,
        "name": "ipython"
      }
    }
  },
  "nbformat": 4,
  "nbformat_minor": 2
}