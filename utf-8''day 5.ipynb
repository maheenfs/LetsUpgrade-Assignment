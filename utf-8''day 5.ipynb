{
  "cells": [
    {
      "metadata": {
        "trusted": true
      },
      "cell_type": "code",
      "source": "r=1\nfor p in range (1,1000):\n    if r>20:\n        break\n    if p>1:\n        for i in range(2, p):\n            if (p % i) == 0:\n                break\n            else:\n                print(p)\n                r=r+1\n                break\n    \n        ",
      "execution_count": 18,
      "outputs": [
        {
          "output_type": "stream",
          "text": "3\n5\n7\n9\n11\n13\n15\n17\n19\n21\n23\n25\n27\n29\n31\n33\n35\n37\n39\n41\n",
          "name": "stdout"
        }
      ]
    },
    {
      "metadata": {
        "trusted": true
      },
      "cell_type": "code",
      "source": "s = \"Hello\"\nss = \"He\"\nprint (s.find(ss))\nprint (\"Hello, World\".lower());\nprint (\"Hello, World\".upper());\nprint (\"Hello, World\".isupper());\nprint (\"Hello, World\".islower());\nprint (\"Hello, World\".replace(\"World\", \"India\"));\n",
      "execution_count": null,
      "outputs": []
    },
    {
      "metadata": {
        "trusted": true
      },
      "cell_type": "code",
      "source": "x = input(\"enter string\")\nw = \"\" \nfor i in x: \n    w = i + w \n    if (x==w): \n        print(\"it is palindrome\")\n        break\n    else:\n        print(\"not palindrome\")\n        break\ns1=input(\"enter string for anagram check 1\")\ns2=input(\"second string for anagram check\")\nif(sorted(s1)== sorted(s2)): \n        print(\"The strings are anagrams.\")  \nelse: \n        print(\"The strings aren't anagrams.\")   \n\n        ",
      "execution_count": 42,
      "outputs": [
        {
          "output_type": "stream",
          "name": "stdout",
          "text": "enter stringmomo\nnot palindrome\nenter string for anagram check 1ds\nsecond string for anagram checkds\nThe strings are anagrams.\n"
        }
      ]
    },
    {
      "metadata": {
        "trusted": true
      },
      "cell_type": "code",
      "source": "s=input(\"enter string\")\ns=s.replace(\" \",\"\")\nunwanted = \"!@#$;:!*%)(&^~\"\nfor char in unwanted:\n    s=s.replace(char,\"\")\ns=s.lower()\nprint(s)\n\n",
      "execution_count": 40,
      "outputs": [
        {
          "output_type": "stream",
          "name": "stdout",
          "text": "enter string\"Dr. Darshan Ingle @AI-ML Trainer\n\"dr.darshaningleai-mltrainer\n"
        }
      ]
    },
    {
      "metadata": {
        "trusted": true
      },
      "cell_type": "code",
      "source": "",
      "execution_count": null,
      "outputs": []
    }
  ],
  "metadata": {
    "kernelspec": {
      "name": "python36",
      "display_name": "Python 3.6",
      "language": "python"
    },
    "language_info": {
      "mimetype": "text/x-python",
      "nbconvert_exporter": "python",
      "name": "python",
      "pygments_lexer": "ipython3",
      "version": "3.6.6",
      "file_extension": ".py",
      "codemirror_mode": {
        "version": 3,
        "name": "ipython"
      }
    }
  },
  "nbformat": 4,
  "nbformat_minor": 2
}