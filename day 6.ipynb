{
  "cells": [
    {
      "metadata": {
        "trusted": true
      },
      "cell_type": "code",
      "source": "import re\nemail = \"python@gmail.com\"\nprint(re.findall(r'\\w+[.]', email)[0][:-1])",
      "execution_count": 1,
      "outputs": [
        {
          "output_type": "stream",
          "text": "gmail\n",
          "name": "stdout"
        }
      ]
    },
    {
      "metadata": {
        "trusted": true
      },
      "cell_type": "code",
      "source": "In = input().split(',')\nl = list(In)\nl1 = len(l)\n\nx = sorted(l)\nl = x\n\nfor i in range (l1):\n    if(i == l1-1):\n        print(l[i],end=\"\")\n    else:\n        print(l[i],end=\",\")",
      "execution_count": 3,
      "outputs": [
        {
          "output_type": "stream",
          "name": "stdout",
          "text": " bag,apple,cat,dog\n bag,apple,cat,dog"
        }
      ]
    },
    {
      "metadata": {
        "trusted": true
      },
      "cell_type": "code",
      "source": "def getMissingNo(A): \n    n = len(A) \n    total = (n + 1)*(n + 2)/2\n    sum_of_A = sum(A) \n    return total - sum_of_A  \nA = [1, 2, 4, 5, 6] \nmiss = getMissingNo(A) \nprint(int(miss))",
      "execution_count": 4,
      "outputs": [
        {
          "output_type": "stream",
          "text": "3\n",
          "name": "stdout"
        }
      ]
    },
    {
      "metadata": {
        "trusted": true
      },
      "cell_type": "code",
      "source": "def Remove(duplicate): \n    final_list = [] \n    for num in duplicate: \n        if num not in final_list: \n            final_list.append(num) \n    return final_list  \nduplicate = [12, 54, 10, 26, 35, 12, 28, 54] \nprint(Remove(duplicate))",
      "execution_count": 5,
      "outputs": [
        {
          "output_type": "stream",
          "text": "[12, 54, 10, 26, 35, 28]\n",
          "name": "stdout"
        }
      ]
    },
    {
      "metadata": {
        "trusted": true
      },
      "cell_type": "code",
      "source": "",
      "execution_count": null,
      "outputs": []
    }
  ],
  "metadata": {
    "kernelspec": {
      "name": "python36",
      "display_name": "Python 3.6",
      "language": "python"
    },
    "language_info": {
      "mimetype": "text/x-python",
      "nbconvert_exporter": "python",
      "name": "python",
      "pygments_lexer": "ipython3",
      "version": "3.6.6",
      "file_extension": ".py",
      "codemirror_mode": {
        "version": 3,
        "name": "ipython"
      }
    }
  },
  "nbformat": 4,
  "nbformat_minor": 2
}