{
  "cells": [
    {
      "metadata": {
        "trusted": true
      },
      "cell_type": "code",
      "source": "print(\"Subtraction of two complex numbers : \",(4+3j)-(3-7j))",
      "execution_count": 1,
      "outputs": [
        {
          "output_type": "stream",
          "text": "Subtraction of two complex numbers :  (1+10j)\n",
          "name": "stdout"
        }
      ]
    },
    {
      "metadata": {
        "trusted": true
      },
      "cell_type": "code",
      "source": "num=int(input(\"enter number\"))\nroot= num**(1/4) \nprint(root)",
      "execution_count": 13,
      "outputs": [
        {
          "output_type": "stream",
          "name": "stdout",
          "text": "enter number8\n1.681792830507429\n"
        }
      ]
    },
    {
      "metadata": {
        "trusted": true
      },
      "cell_type": "code",
      "source": "x = 5\ny = 10\ntemp = x\nx = y\ny = temp\n\nprint(\"The value of x after swapping:\",x)\nprint(\"The value of y after swapping:\",y)",
      "execution_count": 18,
      "outputs": [
        {
          "output_type": "stream",
          "text": "The value of x after swapping: 10\nThe value of y after swapping: 5\n",
          "name": "stdout"
        }
      ]
    },
    {
      "metadata": {
        "trusted": true
      },
      "cell_type": "code",
      "source": "x = 5\ny = 10\n\nx, y = y, x\nprint(\"x =\", x)\nprint(\"y =\", y)\n",
      "execution_count": 21,
      "outputs": [
        {
          "output_type": "stream",
          "text": "x = 10\ny = 5\n",
          "name": "stdout"
        }
      ]
    },
    {
      "metadata": {
        "trusted": true
      },
      "cell_type": "code",
      "source": "a = 5\nprint(a, \"is of type\", type(a))\n\na = 2.0\nprint(a, \"is of type\", type(a))\n\na = 1+2j\nprint(a, \"is complex number?\", isinstance(1+2j,complex))",
      "execution_count": 22,
      "outputs": [
        {
          "output_type": "stream",
          "text": "5 is of type <class 'int'>\n2.0 is of type <class 'float'>\n(1+2j) is complex number? True\n",
          "name": "stdout"
        }
      ]
    },
    {
      "metadata": {},
      "cell_type": "markdown",
      "source": "create a GitHub Profile\nuse google or microsoft account.\ncreate a new public repository.\nsave the jupyter notebook or code in the repository\nin the assignment sheet provided by lets upgrade paste the link."
    }
  ],
  "metadata": {
    "kernelspec": {
      "name": "python36",
      "display_name": "Python 3.6",
      "language": "python"
    },
    "language_info": {
      "mimetype": "text/x-python",
      "nbconvert_exporter": "python",
      "name": "python",
      "pygments_lexer": "ipython3",
      "version": "3.6.6",
      "file_extension": ".py",
      "codemirror_mode": {
        "version": 3,
        "name": "ipython"
      }
    }
  },
  "nbformat": 4,
  "nbformat_minor": 2
}