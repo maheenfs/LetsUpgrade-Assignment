{
  "cells": [
    {
      "metadata": {
        "trusted": true
      },
      "cell_type": "code",
      "source": "a=complex(input(\"enter complex number\"))\nb=complex(input(\"enter complex number\"))\nadd=a+b\nsub=a-b\nmulti=a*b\n\n\nprint(\"addition is\",add)\nprint(\"substraction is\",sub)\nprint(\"multiplication is\",multi)\n\n",
      "execution_count": 3,
      "outputs": [
        {
          "output_type": "stream",
          "name": "stdout",
          "text": "enter complex number10+5j\nenter complex number6+9j\naddition is (16+14j)\nsubstraction is (4-4j)\nmultiplication is (15+120j)\n"
        }
      ]
    },
    {
      "metadata": {
        "collapsed": true
      },
      "cell_type": "markdown",
      "source": "range() function in python is used to get integer number in a certain range.\nusing for loop we can get integers numbers from a certain range that is from starting point to ending point.\nsyntax\nrange(start, stop,step)"
    },
    {
      "metadata": {
        "trusted": true
      },
      "cell_type": "code",
      "source": "for i in range(5):\n    print(i, end=',')\nprint(\"\\n\")\nfor i in range(5, 10):\n    print(i, end=',')\nprint(\"\\n\")\nfor i in range(2, 10, 2):\n    print(i, end=',')\nprint(\"\\n\")",
      "execution_count": 8,
      "outputs": [
        {
          "output_type": "stream",
          "text": "0,1,2,3,4,\n\n5,6,7,8,9,\n\n2,4,6,8,\n\n",
          "name": "stdout"
        }
      ]
    },
    {
      "metadata": {
        "trusted": true
      },
      "cell_type": "code",
      "source": "a=int(input('enter a number'))\nb=int(input('enter a number'))\nif a-b>25:\n    multi=a*b\nprint(multi)\n    ",
      "execution_count": 9,
      "outputs": [
        {
          "output_type": "stream",
          "name": "stdout",
          "text": "enter a number100\nenter a number50\n5000\n"
        }
      ]
    },
    {
      "metadata": {
        "trusted": true
      },
      "cell_type": "code",
      "source": "a=[1,2,3,4,5,6,7,8,9,10]\nfor i in range (1,len(a)):\n    if a[i]%2==0:\n        ans=(a[i]**2)-2\n        print(ans)\n",
      "execution_count": 13,
      "outputs": [
        {
          "output_type": "stream",
          "text": "2\n14\n34\n62\n98\n",
          "name": "stdout"
        }
      ]
    },
    {
      "metadata": {
        "trusted": true
      },
      "cell_type": "code",
      "source": "a=[1,12,11,4,25,3,25,26,18,10]\nfor i in range (1,len(a)):\n    if a[i]/2>7:\n        print(a[i])",
      "execution_count": 14,
      "outputs": [
        {
          "output_type": "stream",
          "text": "25\n25\n26\n18\n",
          "name": "stdout"
        }
      ]
    },
    {
      "metadata": {
        "trusted": true
      },
      "cell_type": "code",
      "source": "",
      "execution_count": null,
      "outputs": []
    }
  ],
  "metadata": {
    "kernelspec": {
      "name": "python36",
      "display_name": "Python 3.6",
      "language": "python"
    },
    "language_info": {
      "mimetype": "text/x-python",
      "nbconvert_exporter": "python",
      "name": "python",
      "pygments_lexer": "ipython3",
      "version": "3.6.6",
      "file_extension": ".py",
      "codemirror_mode": {
        "version": 3,
        "name": "ipython"
      }
    }
  },
  "nbformat": 4,
  "nbformat_minor": 2
}