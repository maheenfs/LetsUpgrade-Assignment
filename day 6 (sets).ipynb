{
  "cells": [
    {
      "metadata": {
        "trusted": true
      },
      "cell_type": "code",
      "source": "set1 = {\"ape\", \"bat\", \"cat\",\"dog\"}\nprint(set1)",
      "execution_count": 1,
      "outputs": [
        {
          "output_type": "stream",
          "text": "{'dog', 'cat', 'bat', 'ape'}\n",
          "name": "stdout"
        }
      ]
    },
    {
      "metadata": {
        "trusted": true
      },
      "cell_type": "code",
      "source": "set1 ={\"ape\", \"bat\", \"cat\",\"dog\"}\n\nfor x in set1:\n  print(x)",
      "execution_count": 2,
      "outputs": [
        {
          "output_type": "stream",
          "text": "dog\ncat\nbat\nape\n",
          "name": "stdout"
        }
      ]
    },
    {
      "metadata": {
        "trusted": true
      },
      "cell_type": "code",
      "source": "set1 = {\"ape\", \"bat\", \"cat\",\"dog\"}\n\nprint(\"whale\" in set1)",
      "execution_count": 3,
      "outputs": [
        {
          "output_type": "stream",
          "text": "False\n",
          "name": "stdout"
        }
      ]
    },
    {
      "metadata": {
        "trusted": true
      },
      "cell_type": "code",
      "source": "set1 = {\"ape\", \"bat\", \"cat\",\"dog\"}\nset1.add(\"whale\")\nprint(set1)",
      "execution_count": 4,
      "outputs": [
        {
          "output_type": "stream",
          "text": "{'bat', 'dog', 'cat', 'whale', 'ape'}\n",
          "name": "stdout"
        }
      ]
    },
    {
      "metadata": {
        "trusted": true
      },
      "cell_type": "code",
      "source": "print(len(set1))",
      "execution_count": 5,
      "outputs": [
        {
          "output_type": "stream",
          "text": "5\n",
          "name": "stdout"
        }
      ]
    },
    {
      "metadata": {
        "trusted": true
      },
      "cell_type": "code",
      "source": "set1.remove(\"ape\")\nprint(set1)",
      "execution_count": 6,
      "outputs": [
        {
          "output_type": "stream",
          "text": "{'bat', 'dog', 'cat', 'whale'}\n",
          "name": "stdout"
        }
      ]
    },
    {
      "metadata": {
        "trusted": true
      },
      "cell_type": "code",
      "source": "set1.discard(\"dog\")\nprint(set1)\n",
      "execution_count": 7,
      "outputs": [
        {
          "output_type": "stream",
          "text": "{'bat', 'cat', 'whale'}\n",
          "name": "stdout"
        }
      ]
    },
    {
      "metadata": {
        "trusted": true
      },
      "cell_type": "code",
      "source": "x = set1.pop()\nprint(x)\nprint(set1)",
      "execution_count": 8,
      "outputs": [
        {
          "output_type": "stream",
          "text": "bat\n{'cat', 'whale'}\n",
          "name": "stdout"
        }
      ]
    },
    {
      "metadata": {
        "trusted": true
      },
      "cell_type": "code",
      "source": "set1.clear()\nprint(set1)",
      "execution_count": 9,
      "outputs": [
        {
          "output_type": "stream",
          "text": "set()\n",
          "name": "stdout"
        }
      ]
    },
    {
      "metadata": {
        "trusted": true
      },
      "cell_type": "code",
      "source": "set1 = {\"a\", \"b\" , \"c\"}\nset2 = {1, 2, 3}\nset3 = set1.union(set2)\nprint(set3)\n",
      "execution_count": 10,
      "outputs": [
        {
          "output_type": "stream",
          "text": "{1, 2, 3, 'b', 'c', 'a'}\n",
          "name": "stdout"
        }
      ]
    },
    {
      "metadata": {
        "trusted": true
      },
      "cell_type": "code",
      "source": "",
      "execution_count": null,
      "outputs": []
    }
  ],
  "metadata": {
    "kernelspec": {
      "name": "python36",
      "display_name": "Python 3.6",
      "language": "python"
    },
    "language_info": {
      "mimetype": "text/x-python",
      "nbconvert_exporter": "python",
      "name": "python",
      "pygments_lexer": "ipython3",
      "version": "3.6.6",
      "file_extension": ".py",
      "codemirror_mode": {
        "version": 3,
        "name": "ipython"
      }
    }
  },
  "nbformat": 4,
  "nbformat_minor": 2
}